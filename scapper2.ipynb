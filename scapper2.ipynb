{
 "cells": [
  {
   "cell_type": "code",
   "execution_count": 2,
   "metadata": {},
   "outputs": [],
   "source": [
    "from bs4 import BeautifulSoup\n",
    "from requests_html import AsyncHTMLSession\n",
    "import requests\n",
    "import re\n",
    "import unicodedata\n",
    "from datetime import datetime\n",
    "from selenium import webdriver\n",
    "from selenium.webdriver.common.by import By\n",
    "from selenium.webdriver.support.ui import WebDriverWait\n",
    "from selenium.webdriver.support import expected_conditions as EC\n",
    "from selenium.webdriver.firefox.options import Options\n",
    "from selenium.common.exceptions import NoSuchElementException, TimeoutException\n",
    "import json\n",
    "import pprint\n",
    "import pickle\n",
    "import pandas as pd\n",
    "\n",
    "\n",
    "import asyncio\n",
    "if asyncio.get_event_loop().is_running(): # Only patch if needed (i.e. running in Notebook, Spyder, etc)\n",
    "    import nest_asyncio\n",
    "    nest_asyncio.apply()"
   ]
  },
  {
   "attachments": {},
   "cell_type": "markdown",
   "metadata": {},
   "source": [
    "# Software Talks Conferences"
   ]
  },
  {
   "cell_type": "code",
   "execution_count": 4,
   "metadata": {},
   "outputs": [],
   "source": [
    "st_url = 'https://www.softwaretalks.io/'\n",
    "page = unicodedata.normalize('NFKD', requests.get(st_url).text)\n",
    "doc = BeautifulSoup(page, 'html.parser')"
   ]
  },
  {
   "cell_type": "code",
   "execution_count": 8,
   "metadata": {},
   "outputs": [],
   "source": [
    "st_confs = {}\n",
    "for conference in doc.find_all(class_='conference-item'):\n",
    "    a_tags = conference.find_all('a')\n",
    "    \n",
    "    # Looking at a section\n",
    "    if len(a_tags) == 0:\n",
    "        continue\n",
    "    \n",
    "    # Title\n",
    "    title = a_tags[0].text.strip()\n",
    "    \n",
    "    # URL\n",
    "    url = a_tags[1].text\n",
    "    if url[-1] != '/':\n",
    "        url = f'{url}/'\n",
    "    if not 'www' in url:\n",
    "        url_split = url.split('//')\n",
    "        url = f'{url_split[0]}//www.{url_split[1]}'\n",
    "        \n",
    "    date_online_location = conference.p.text.split('.', 1)\n",
    "    \n",
    "    # Date\n",
    "    date = date_online_location[0].split(' ')\n",
    "    start = datetime.strptime(date[1], '%d/%m/%Y')\n",
    "    end = datetime.strptime(date[3], '%d/%m/%Y')\n",
    "    \n",
    "    online_location = date_online_location[1]\n",
    "    \n",
    "    # Online\n",
    "    online = True if 'Online' in online_location else None\n",
    "    \n",
    "    # Location\n",
    "    city = None\n",
    "    state = None\n",
    "    country = None\n",
    "    if online:\n",
    "        location = online_location.split('Online')[0].strip()\n",
    "    else:\n",
    "        location = online_location.strip()\n",
    "    if location != '':\n",
    "        city_state_country = location.split(',')\n",
    "        city = city_state_country[0]\n",
    "        if (len(city_state_country[1].strip()) == 2):\n",
    "            state = city_state_country[1]\n",
    "            country = 'United States'\n",
    "        else:\n",
    "            country = city_state_country[1]\n",
    "    \n",
    "    # Topics\n",
    "    topics = []\n",
    "    \n",
    "    # Normalize across all lists\n",
    "    if country == 'Czechia':\n",
    "        country = 'Czech Republic'\n",
    "        \n",
    "        \n",
    "    st_confs[f'{title} -- {str(start).split(\" \")[0]}'] = {\n",
    "        'title': title.strip(),\n",
    "        'url': url.strip(),\n",
    "        'start': start,\n",
    "        'end': end,\n",
    "        'online': online,\n",
    "        'topics': topics,\n",
    "        'country': country.strip() if country else country,\n",
    "        'city': city.strip() if city else city,\n",
    "        'state': state.strip() if state else state,\n",
    "        'source': ['SoftwareTalks'],\n",
    "    }"
   ]
  },
  {
   "attachments": {},
   "cell_type": "markdown",
   "metadata": {},
   "source": [
    "# Confs Tech Conferences"
   ]
  },
  {
   "cell_type": "code",
   "execution_count": 12,
   "metadata": {},
   "outputs": [],
   "source": [
    "confs_tech_url = 'https://confs.tech/#'\n",
    "asession = AsyncHTMLSession()\n",
    "response = await asession.get(confs_tech_url)\n",
    "await response.html.arender()\n",
    "html = unicodedata.normalize('NFKD', response.html.html)\n",
    "doc = BeautifulSoup(html, 'html.parser')"
   ]
  },
  {
   "cell_type": "code",
   "execution_count": 29,
   "metadata": {},
   "outputs": [
    {
     "name": "stdout",
     "output_type": "stream",
     "text": [
      "2023-03-18 00:00:00\n"
     ]
    }
   ],
   "source": [
    "ct_confs = {}\n",
    "for conference in doc.find_all('li', class_='ConferenceItem_ConferenceItem__Hnn7O'):\n",
    "    data = json.loads(conference.find('script', type='application/ld+json').text)\n",
    "    \n",
    "    # Title5m\n",
    "    title = data['name']\n",
    "    \n",
    "    # URL\n",
    "    url = data['url']\n",
    "    \n",
    "    # Date\n",
    "    start = datetime.strptime(data['startDate'], '%Y-%m-%d')\n",
    "    end = datetime.strptime(data['endDate'], '%Y-%m-%d')\n",
    "    \n",
    "    print(start)\n",
    "    break"
   ]
  },
  {
   "cell_type": "code",
   "execution_count": null,
   "metadata": {},
   "outputs": [],
   "source": []
  }
 ],
 "metadata": {
  "kernelspec": {
   "display_name": "Python 3",
   "language": "python",
   "name": "python3"
  },
  "language_info": {
   "codemirror_mode": {
    "name": "ipython",
    "version": 3
   },
   "file_extension": ".py",
   "mimetype": "text/x-python",
   "name": "python",
   "nbconvert_exporter": "python",
   "pygments_lexer": "ipython3",
   "version": "3.11.2"
  },
  "orig_nbformat": 4
 },
 "nbformat": 4,
 "nbformat_minor": 2
}
